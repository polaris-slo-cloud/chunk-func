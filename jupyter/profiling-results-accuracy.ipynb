{
 "cells": [
  {
   "cell_type": "markdown",
   "id": "0f0e7ce5-f7d0-4f1e-b917-deaf3466fa73",
   "metadata": {},
   "source": [
    "# Profiling Results Accuracy\n",
    "\n",
    "This file compares the accuracy of the following profiling results:\n",
    "\n",
    "* Baseline: exhaustive profiling (159 resource profiles, based on the complete AWS profiles range in 64 MB steps)\n",
    "* Linear model (linear interpolation between an evenly distributed selection of 5% of the exhaustive profiling results)\n",
    "* Bayesian Optimization"
   ]
  },
  {
   "cell_type": "code",
   "execution_count": 1,
   "id": "64b2e8fe",
   "metadata": {},
   "outputs": [],
   "source": [
    "import os\n",
    "\n",
    "# Workaround for using the Jupyter container from VS Code Jupyter extension.\n",
    "if not os.path.exists('./profiling-results'):\n",
    "    os.chdir('./chunk-func/jupyter')"
   ]
  },
  {
   "cell_type": "code",
   "execution_count": 2,
   "id": "2591b972-c9fe-4c9b-afd9-4182b091a981",
   "metadata": {},
   "outputs": [],
   "source": [
    "from dataclasses import dataclass\n",
    "import math\n",
    "import pandas as pd\n",
    "import yaml\n",
    "\n",
    "# Definitions of our column names.\n",
    "col_profile = 'profile'\n",
    "col_exec_time = 'execTime'\n",
    "col_cost = 'cost'\n",
    "col_profiled = 'profiled'\n",
    "\n",
    "@dataclass\n",
    "class FunctionProfilingResults:\n",
    "    input_sizes: list[int]\n",
    "    '''All input sizes for this function in ascending order.'''\n",
    "    \n",
    "    results: dict[int, pd.DataFrame]\n",
    "    '''The results indexed by input size.'''\n",
    "\n",
    "class FunctionProfilingResultsMap(dict[str, FunctionProfilingResults]):\n",
    "    '''FunctionProfilingResults indexed by function name'''\n",
    "    # Type aliases do not seem to be supported in notebooks, so we inherit from dict.\n",
    "    pass\n",
    "\n",
    "def extract_input_sizes(func_desc) -> list[int]:\n",
    "    ret: list[int] = []\n",
    "    typical_inputs = func_desc['spec']['functionDescription']['typicalInputs']\n",
    "    for input in typical_inputs:\n",
    "        ret.append(input['sizeBytes'])\n",
    "    return ret\n",
    "\n",
    "def add_result(profile_result, dest_results_per_input: dict[int, list[dict[str, object]]]):\n",
    "    profile = profile_result['resourceProfileId']\n",
    "    results = profile_result.get('results')\n",
    "    \n",
    "    if results is not None:\n",
    "        for input_result in results:\n",
    "            results_list = dest_results_per_input[input_result['inputSizeBytes']]\n",
    "            results_list.append({ \n",
    "                col_profile: profile, \n",
    "                col_exec_time: input_result['executionTimeMs'], \n",
    "                col_cost: float(input_result['executionCost']),\n",
    "                col_profiled: input_result.get('resultType', 'Profiled') == 'Profiled',\n",
    "            })\n",
    "\n",
    "\n",
    "def load_result(path: str) -> FunctionProfilingResults:\n",
    "    '''\n",
    "    Reads a FunctionDescription YAML file and returns a dictionary of the profiling results,\n",
    "    indexed by input size.\n",
    "    '''\n",
    "    with open(path, 'r') as file:\n",
    "        func_desc = yaml.safe_load(file)\n",
    "    input_sizes = extract_input_sizes(func_desc)\n",
    "    results_per_input = { \n",
    "        input_size: [] for input_size in input_sizes \n",
    "    }\n",
    "\n",
    "    all_results = func_desc['status']['profilingResults']['results']\n",
    "    for profile_result in all_results:\n",
    "        add_result(profile_result, results_per_input)\n",
    "\n",
    "    data_frames: dict[int, pd.DataFrame] = {}\n",
    "    for input_size, results in results_per_input.items():\n",
    "        df = pd.DataFrame(data=results, columns=[col_profile, col_exec_time, col_cost, col_profiled])\n",
    "        df = df.set_index(col_profile)\n",
    "        data_frames[input_size] = df\n",
    "    return FunctionProfilingResults(input_sizes=input_sizes, results=data_frames)\n",
    "\n",
    "\n",
    "def load_results(functions: list[str], profiling_type: str) -> FunctionProfilingResultsMap:\n",
    "    '''\n",
    "    Loads the results for all specified functions. profiling_type may be 'aws', 'gcf', or 'bo'.\n",
    "    '''\n",
    "    ret = FunctionProfilingResultsMap()\n",
    "    for func in functions:\n",
    "        ret[func] = load_result(f'./profiling-results/{profiling_type}/{func}.yaml')\n",
    "    return ret\n"
   ]
  },
  {
   "cell_type": "code",
   "execution_count": 3,
   "id": "97840053-429b-43cb-823e-63cc6bcb99da",
   "metadata": {
    "scrolled": true
   },
   "outputs": [],
   "source": [
    "all_functions = [\n",
    "    # LogPro\n",
    "    'validate-log',\n",
    "    'extract-basic-stats',\n",
    "    'extract-successes',\n",
    "    'extract-success-stats',\n",
    "\n",
    "    # VidPro\n",
    "    'validate-video',   \n",
    "    'cut-video',\n",
    "    'merge-videos',\n",
    "\n",
    "    # FaceDet\n",
    "    'validate-video-face-recog',\n",
    "    'transform-video',\n",
    "    'detect-faces',\n",
    "    'mark-faces',\n",
    "]\n",
    "\n",
    "aws_results = load_results(all_functions, 'aws')\n",
    "exhaustive_results = aws_results"
   ]
  },
  {
   "cell_type": "code",
   "execution_count": 4,
   "id": "337ec354-3023-490c-afa7-fa04b517deac",
   "metadata": {},
   "outputs": [],
   "source": [
    "bo_hyperparams = 'poi=0.02-minSamples=0.1'\n",
    "\n",
    "bo_xi_values = [ '0.01', '0.05', '0.1', '0.5', '1.0', '1.5', '2.0', '2.5', '3.0' ]\n",
    "output_folder = './output/aws-bo'\n",
    "\n",
    "def get_bo_results_dir(bo_xi: str) -> str:\n",
    "    return f'bo/{bo_hyperparams}/xi={bo_xi}'"
   ]
  },
  {
   "cell_type": "code",
   "execution_count": 5,
   "id": "0fc5645e-1f7d-4c81-a83b-b4d9b0ce756d",
   "metadata": {},
   "outputs": [],
   "source": [
    "import matplotlib.pyplot as plt\n",
    "\n",
    "def matplot_exhaustive_bo_comparison(exhaustive_result: pd.DataFrame, bo_result: pd.DataFrame):\n",
    "    fig, ax = plt.subplots()\n",
    "    exhaustive_result[[col_exec_time]].plot(ax=ax, label='Exhaustive')\n",
    "    bo_result[[col_exec_time]].plot(ax=ax, label='BO')\n",
    "    ax.legend()"
   ]
  },
  {
   "cell_type": "code",
   "execution_count": 6,
   "id": "97c68142-3744-42a4-8867-1daf7ba1478b",
   "metadata": {},
   "outputs": [],
   "source": [
    "import seaborn as sns\n",
    "\n",
    "sns.set_theme()\n",
    "\n",
    "def seaplot_exhaustive_bo_comparison(exhaustive_result: pd.DataFrame, bo_result: pd.DataFrame, title: str):\n",
    "    exhaustive_result = exhaustive_result[[col_exec_time]].rename(columns={col_exec_time: 'Exhaustive'})\n",
    "    bo_result_renamed = bo_result[[col_exec_time]].rename(columns={col_exec_time: 'BO'})\n",
    "    joined = exhaustive_result.join(bo_result_renamed)\n",
    "    melted = joined.reset_index().melt(id_vars=[col_profile], var_name='type', value_name=col_exec_time)\n",
    "    g: sns.FacetGrid = sns.relplot(\n",
    "        data=melted,\n",
    "        kind='line',\n",
    "        x=col_profile,\n",
    "        y=col_exec_time,\n",
    "        hue='type',\n",
    "        facet_kws=dict(sharex=True),\n",
    "    )\n",
    "    g.set_axis_labels('Profile', 'Execution Time (ms)')\n",
    "    g.set_xticklabels(step=10, rotation=45)\n",
    "    g.ax.set_title(title)\n",
    "\n",
    "    # Mark the samples that BO decided to profile (the others were inferred)\n",
    "    bo_profiled = bo_result[bo_result[col_profiled] == True].copy()\n",
    "    bo_profiled.loc[:, 'type'] = 'BO'\n",
    "    sns.scatterplot(\n",
    "        ax=g.ax,\n",
    "        data=bo_profiled,\n",
    "        x=col_profile,\n",
    "        y=col_exec_time,\n",
    "        hue='type',\n",
    "        style='type',\n",
    "        legend=False,\n",
    "        palette=[(0, 0, 0)],  #[sns.color_palette('flare')[0]],\n",
    "        markers=['X'],\n",
    "        zorder=10\n",
    "    )"
   ]
  },
  {
   "cell_type": "code",
   "execution_count": 7,
   "id": "6d8c7f8b-b335-41d3-9ba3-3b6dcb8e65f4",
   "metadata": {
    "editable": true,
    "slideshow": {
     "slide_type": ""
    },
    "tags": []
   },
   "outputs": [],
   "source": [
    "from sklearn.metrics import root_mean_squared_error\n",
    "\n",
    "def normalized_rmse(exhaustive_result: pd.DataFrame, predicted_result: pd.DataFrame) -> float:\n",
    "    '''Computes the normalized RMSE for a single input size.'''\n",
    "    y_exhaustive_df: pd.DataFrame = exhaustive_result[[col_exec_time]]\n",
    "    y_pred_df: pd.DataFrame = predicted_result[[col_exec_time]]\n",
    "\n",
    "    # Due to errors for certain profiles in the exhaustive runs, the two DataFrames might not contain exactly the same profiles,\n",
    "    # e.g., the profiling for 256mib went into timeout, while the predicted results inferred a value for this profile.\n",
    "    # We want to compare only those profiles which are present in both DataFrames.\n",
    "    merged = y_exhaustive_df.merge(y_pred_df, how='inner', on=[col_profile], suffixes=('_exhaustive', '_predicted'))\n",
    "    y_exhaustive = merged[f'{col_exec_time}_exhaustive']\n",
    "    y_pred = merged[f'{col_exec_time}_predicted']\n",
    "\n",
    "    rmse = root_mean_squared_error(y_exhaustive, y_pred)\n",
    "    y_ex_mean = y_exhaustive.mean()\n",
    "    return rmse / y_ex_mean\n",
    "\n",
    "\n",
    "def mean_normalized_rmse(exhaustive_results: FunctionProfilingResults, predicted_results: FunctionProfilingResults) -> float:\n",
    "    '''Computes the normalized RMSE for all input sizes and returns the mean average.'''\n",
    "    rmse_sum = 0.0\n",
    "    for input_size in exhaustive_results.input_sizes: # [exhaustive_results.input_sizes[-3]]:\n",
    "        exhaustive = exhaustive_results.results[input_size]\n",
    "        predicted = predicted_results.results[input_size]\n",
    "        rmse = normalized_rmse(exhaustive_result=exhaustive, predicted_result=predicted)\n",
    "        rmse_sum += rmse\n",
    "    \n",
    "    mean_rmse = rmse_sum / float(len(exhaustive_results.input_sizes))\n",
    "    return mean_rmse\n",
    "    \n",
    "\n",
    "def mean_normalized_rmse_for_all_functions(bo_xi: str, exhaustive_results: FunctionProfilingResultsMap) -> pd.Series:\n",
    "    '''Computes the mean RMSE across all input sizes for all functions.'''\n",
    "    predicted_results = load_results(all_functions, get_bo_results_dir(bo_xi))\n",
    "    rmses: dict[str, float] = {}\n",
    "    for key, exhaustive_result in exhaustive_results.items():\n",
    "        predicted_result = predicted_results[key]\n",
    "        rmses[key] = mean_normalized_rmse(exhaustive_results=exhaustive_result, predicted_results=predicted_result)\n",
    "    return pd.Series(rmses)"
   ]
  },
  {
   "cell_type": "code",
   "execution_count": 8,
   "id": "7a7d999a-5ab7-4fd8-a7fd-e8eaf712953e",
   "metadata": {},
   "outputs": [],
   "source": [
    "## Compute RMSE for largest input size and plot results.\n",
    "\n",
    "# bo_xi='0.01'\n",
    "# bo_results = load_results(all_functions, f'bo/poi=0.02-minSamples=0.1/xi={bo_xi}')\n",
    "\n",
    "# print('xi = ', bo_xi)\n",
    "\n",
    "# for key, exhaustive_result in exhaustive_results.items():\n",
    "#     bo_result = bo_results[key]\n",
    "#     # exhaustive_largest_input_result = exhaustive_result.results[exhaustive_result.input_sizes[-1]]\n",
    "#     # bo_largest_input_result = bo_result.results[bo_result.input_sizes[-1]]\n",
    "#     # seaplot_exhaustive_bo_comparison(exhaustive_largest_input_result, bo_largest_input_result, key)\n",
    "#     # rmse = normalized_rmse(exhaustive_largest_input_result, bo_largest_input_result)\n",
    "#     rmse = mean_normalized_rmse(exhaustive_results=exhaustive_result, predicted_results=bo_result)\n",
    "#     print(key, 'RMSE =', rmse)"
   ]
  },
  {
   "cell_type": "code",
   "execution_count": 9,
   "id": "77997654",
   "metadata": {},
   "outputs": [],
   "source": [
    "## Compute mean RMSE across all input sizes.\n",
    "\n",
    "# df_rmse = pd.DataFrame(0.0, exhaustive_results.keys(), bo_xi_values)\n",
    "\n",
    "# for bo_xi in bo_xi_values:\n",
    "#     rmses = mean_normalized_rmse_for_all_functions(bo_xi, exhaustive_results)\n",
    "#     df_rmse[bo_xi] = rmses\n",
    "\n",
    "# display(df_rmse)\n",
    "# df_rmse.to_csv(f'{output_folder}/bo-mean-rmse-{bo_hyperparams}.csv')"
   ]
  },
  {
   "cell_type": "code",
   "execution_count": 10,
   "id": "affcfcb8",
   "metadata": {},
   "outputs": [],
   "source": [
    "class RmseByInputSizeMap(dict[int, float]):\n",
    "    pass\n",
    "\n",
    "@dataclass\n",
    "class RmseAndBoXiPair:\n",
    "    rmse: float\n",
    "    bo_xi: str\n",
    "\n",
    "def load_all_bo_results() -> dict[str, FunctionProfilingResultsMap]:\n",
    "    '''Loads all BO results indexed by bo_xi strings'''\n",
    "    all_bo_results: dict[str, FunctionProfilingResultsMap] = {}\n",
    "    for bo_xi in bo_xi_values:\n",
    "        bo_results = load_results(all_functions, get_bo_results_dir(bo_xi))\n",
    "        all_bo_results[bo_xi] = bo_results\n",
    "    return all_bo_results\n",
    "\n",
    "\n",
    "def normalized_rmse_for_all_input_sizes(exhaustive_results: FunctionProfilingResults, predicted_results: FunctionProfilingResults) -> RmseByInputSizeMap:\n",
    "    '''Returns a dict of normalized RMSEs for every input size, indexed by the input size'''\n",
    "    rmses = RmseByInputSizeMap()\n",
    "    for input_size in exhaustive_results.input_sizes:\n",
    "        exhaustive = exhaustive_results.results[input_size]\n",
    "        predicted = predicted_results.results[input_size]\n",
    "        rmse = normalized_rmse(exhaustive_result=exhaustive, predicted_result=predicted)\n",
    "        rmses[input_size] = rmse\n",
    "    return rmses\n",
    "\n",
    "\n",
    "def normalized_rmse_for_all_bo_xis(fn_name: str, exhaustive_results: FunctionProfilingResults, all_bo_results: dict[str, FunctionProfilingResultsMap]) -> dict[str, RmseByInputSizeMap]:\n",
    "    '''Calculates all normalized RMSEs for every input size for all BO results and returns them indexed by bo_xi value'''\n",
    "    bo_rmses: dict[str, RmseByInputSizeMap] = {}\n",
    "    for bo_xi in bo_xi_values:\n",
    "        predicted_results = all_bo_results[bo_xi][fn_name]\n",
    "        rmses = normalized_rmse_for_all_input_sizes(exhaustive_results=exhaustive_results, predicted_results=predicted_results)\n",
    "        bo_rmses[bo_xi] = rmses\n",
    "    return bo_rmses\n",
    "\n",
    "\n",
    "def find_min_rmse(fn_name: str, exhaustive_results: FunctionProfilingResults, all_bo_results: dict[str, FunctionProfilingResultsMap]) -> dict[int, RmseAndBoXiPair]:\n",
    "    '''Finds the min RMSE and associated bo_xi value for every input size and returns them indexed by input size'''\n",
    "    min_rmses: dict[int, RmseAndBoXiPair] = {}\n",
    "    bo_rmses = normalized_rmse_for_all_bo_xis(fn_name, exhaustive_results, all_bo_results)\n",
    "\n",
    "    for input_size in exhaustive_results.input_sizes:\n",
    "        min_rmse = math.inf\n",
    "        min_rmse_bo_xi: str = None\n",
    "        for bo_xi, rmses in bo_rmses.items():\n",
    "            rmse = rmses[input_size]\n",
    "            if rmse < min_rmse:\n",
    "                min_rmse = rmse\n",
    "                min_rmse_bo_xi = bo_xi\n",
    "        min_rmses[input_size] = RmseAndBoXiPair(rmse=min_rmse, bo_xi=min_rmse_bo_xi)\n",
    "    \n",
    "    return min_rmses\n",
    "\n",
    "\n",
    "def find_min_rmses_for_all_functions(exhaustive_results: FunctionProfilingResultsMap) -> dict[str, dict[int, RmseAndBoXiPair]]:\n",
    "    all_bo_results = load_all_bo_results()\n",
    "    all_min_rmses: dict[str, dict[int, RmseAndBoXiPair]] = {}\n",
    "    for fn_name, fn_exhaustive_results in exhaustive_results.items():\n",
    "        fn_min_rmse = find_min_rmse(fn_name, fn_exhaustive_results, all_bo_results)\n",
    "        all_min_rmses[fn_name] = fn_min_rmse\n",
    "        print('Min RMSE for ', fn_name)\n",
    "        display(fn_min_rmse)\n",
    "    return all_min_rmses"
   ]
  },
  {
   "cell_type": "code",
   "execution_count": 11,
   "id": "e7bada8b",
   "metadata": {},
   "outputs": [
    {
     "name": "stdout",
     "output_type": "stream",
     "text": [
      "Min RMSE for  validate-log\n"
     ]
    },
    {
     "data": {
      "text/plain": [
       "{2467840: RmseAndBoXiPair(rmse=0.06652543149940501, bo_xi='0.1'),\n",
       " 56909824: RmseAndBoXiPair(rmse=0.13286685885438226, bo_xi='2.0'),\n",
       " 100449280: RmseAndBoXiPair(rmse=0.0982641236229035, bo_xi='0.5')}"
      ]
     },
     "metadata": {},
     "output_type": "display_data"
    },
    {
     "name": "stdout",
     "output_type": "stream",
     "text": [
      "Min RMSE for  extract-basic-stats\n"
     ]
    },
    {
     "data": {
      "text/plain": [
       "{2467840: RmseAndBoXiPair(rmse=0.04295812298047427, bo_xi='0.05'),\n",
       " 56909824: RmseAndBoXiPair(rmse=0.022646011286122328, bo_xi='2.5'),\n",
       " 100449280: RmseAndBoXiPair(rmse=0.01442950252355836, bo_xi='1.5')}"
      ]
     },
     "metadata": {},
     "output_type": "display_data"
    },
    {
     "name": "stdout",
     "output_type": "stream",
     "text": [
      "Min RMSE for  extract-successes\n"
     ]
    },
    {
     "data": {
      "text/plain": [
       "{2467840: RmseAndBoXiPair(rmse=0.0530020552756327, bo_xi='0.05'),\n",
       " 56909824: RmseAndBoXiPair(rmse=0.07441270191940277, bo_xi='3.0'),\n",
       " 100449280: RmseAndBoXiPair(rmse=0.0627715167366214, bo_xi='1.5')}"
      ]
     },
     "metadata": {},
     "output_type": "display_data"
    },
    {
     "name": "stdout",
     "output_type": "stream",
     "text": [
      "Min RMSE for  extract-success-stats\n"
     ]
    },
    {
     "data": {
      "text/plain": [
       "{2070369: RmseAndBoXiPair(rmse=0.08238843688091485, bo_xi='0.05'),\n",
       " 21511278: RmseAndBoXiPair(rmse=0.041107199782664944, bo_xi='0.5'),\n",
       " 21569326: RmseAndBoXiPair(rmse=0.02712285925170978, bo_xi='3.0')}"
      ]
     },
     "metadata": {},
     "output_type": "display_data"
    },
    {
     "name": "stdout",
     "output_type": "stream",
     "text": [
      "Min RMSE for  validate-video\n"
     ]
    },
    {
     "data": {
      "text/plain": [
       "{42254483: RmseAndBoXiPair(rmse=0.24537848667600007, bo_xi='3.0'),\n",
       " 238915345: RmseAndBoXiPair(rmse=0.21815073917331776, bo_xi='0.5'),\n",
       " 525049424: RmseAndBoXiPair(rmse=0.18616328171443178, bo_xi='2.0')}"
      ]
     },
     "metadata": {},
     "output_type": "display_data"
    },
    {
     "name": "stdout",
     "output_type": "stream",
     "text": [
      "Min RMSE for  cut-video\n"
     ]
    },
    {
     "data": {
      "text/plain": [
       "{8450897: RmseAndBoXiPair(rmse=0.18765053002997026, bo_xi='0.01'),\n",
       " 16901793: RmseAndBoXiPair(rmse=0.12199641209527783, bo_xi='0.05'),\n",
       " 33803586: RmseAndBoXiPair(rmse=0.1909472524322945, bo_xi='0.01'),\n",
       " 47783069: RmseAndBoXiPair(rmse=0.07049957784320655, bo_xi='3.0'),\n",
       " 95566138: RmseAndBoXiPair(rmse=0.2066278895881382, bo_xi='2.5'),\n",
       " 191132276: RmseAndBoXiPair(rmse=0.04198523754771106, bo_xi='3.0'),\n",
       " 105009885: RmseAndBoXiPair(rmse=0.049631694235880736, bo_xi='0.01'),\n",
       " 210019770: RmseAndBoXiPair(rmse=0.03507745425891213, bo_xi='1.5'),\n",
       " 420039539: RmseAndBoXiPair(rmse=0.062878185516613, bo_xi='0.05')}"
      ]
     },
     "metadata": {},
     "output_type": "display_data"
    },
    {
     "name": "stdout",
     "output_type": "stream",
     "text": [
      "Min RMSE for  merge-videos\n"
     ]
    },
    {
     "data": {
      "text/plain": [
       "{15451354: RmseAndBoXiPair(rmse=0.1295714465558396, bo_xi='0.5'),\n",
       " 19660106: RmseAndBoXiPair(rmse=0.023857761042560568, bo_xi='2.5'),\n",
       " 23807460: RmseAndBoXiPair(rmse=0.022748059250286452, bo_xi='2.0'),\n",
       " 37873978: RmseAndBoXiPair(rmse=0.023686809718172146, bo_xi='0.01'),\n",
       " 42778355: RmseAndBoXiPair(rmse=0.02046886065466311, bo_xi='0.01')}"
      ]
     },
     "metadata": {},
     "output_type": "display_data"
    },
    {
     "name": "stdout",
     "output_type": "stream",
     "text": [
      "Min RMSE for  validate-video-face-recog\n"
     ]
    },
    {
     "data": {
      "text/plain": [
       "{345600: RmseAndBoXiPair(rmse=0.22224641889094207, bo_xi='0.05'),\n",
       " 518400: RmseAndBoXiPair(rmse=0.19182808834222445, bo_xi='0.01'),\n",
       " 864000: RmseAndBoXiPair(rmse=0.1222639745412976, bo_xi='0.5'),\n",
       " 1080000: RmseAndBoXiPair(rmse=0.13596096905738916, bo_xi='0.1'),\n",
       " 1296000: RmseAndBoXiPair(rmse=0.06771282170774909, bo_xi='3.0'),\n",
       " 1620000: RmseAndBoXiPair(rmse=0.08101837512783626, bo_xi='0.05')}"
      ]
     },
     "metadata": {},
     "output_type": "display_data"
    },
    {
     "name": "stdout",
     "output_type": "stream",
     "text": [
      "Min RMSE for  transform-video\n"
     ]
    },
    {
     "data": {
      "text/plain": [
       "{345600: RmseAndBoXiPair(rmse=0.19782878384673885, bo_xi='3.0'),\n",
       " 518400: RmseAndBoXiPair(rmse=0.1961995399014517, bo_xi='1.0'),\n",
       " 864000: RmseAndBoXiPair(rmse=0.19857319514801958, bo_xi='3.0'),\n",
       " 1080000: RmseAndBoXiPair(rmse=0.18467480397872243, bo_xi='3.0'),\n",
       " 1296000: RmseAndBoXiPair(rmse=0.08093895918777204, bo_xi='2.5'),\n",
       " 1620000: RmseAndBoXiPair(rmse=0.09859189277345727, bo_xi='1.5')}"
      ]
     },
     "metadata": {},
     "output_type": "display_data"
    },
    {
     "name": "stdout",
     "output_type": "stream",
     "text": [
      "Min RMSE for  detect-faces\n"
     ]
    },
    {
     "data": {
      "text/plain": [
       "{2168077: RmseAndBoXiPair(rmse=0.22621872365294038, bo_xi='0.01'),\n",
       " 2200720: RmseAndBoXiPair(rmse=0.0691479385289465, bo_xi='1.0'),\n",
       " 6462780: RmseAndBoXiPair(rmse=0.06927933057557302, bo_xi='0.1'),\n",
       " 6478567: RmseAndBoXiPair(rmse=0.07517085095049245, bo_xi='0.1'),\n",
       " 14938139: RmseAndBoXiPair(rmse=0.07037315958144168, bo_xi='2.5'),\n",
       " 15033099: RmseAndBoXiPair(rmse=0.07344178815493323, bo_xi='0.05')}"
      ]
     },
     "metadata": {},
     "output_type": "display_data"
    },
    {
     "name": "stdout",
     "output_type": "stream",
     "text": [
      "Min RMSE for  mark-faces\n"
     ]
    },
    {
     "data": {
      "text/plain": [
       "{345600: RmseAndBoXiPair(rmse=0.029899711206761083, bo_xi='0.1'),\n",
       " 518400: RmseAndBoXiPair(rmse=0.033455516503592256, bo_xi='0.01'),\n",
       " 864000: RmseAndBoXiPair(rmse=0.028425325570209603, bo_xi='0.1'),\n",
       " 1080000: RmseAndBoXiPair(rmse=0.033453358639968296, bo_xi='1.0'),\n",
       " 1296000: RmseAndBoXiPair(rmse=0.03725237661317097, bo_xi='1.0'),\n",
       " 1620000: RmseAndBoXiPair(rmse=0.030234092049387474, bo_xi='1.0')}"
      ]
     },
     "metadata": {},
     "output_type": "display_data"
    },
    {
     "data": {
      "text/plain": [
       "{'validate-log': {2467840: RmseAndBoXiPair(rmse=0.06652543149940501, bo_xi='0.1'),\n",
       "  56909824: RmseAndBoXiPair(rmse=0.13286685885438226, bo_xi='2.0'),\n",
       "  100449280: RmseAndBoXiPair(rmse=0.0982641236229035, bo_xi='0.5')},\n",
       " 'extract-basic-stats': {2467840: RmseAndBoXiPair(rmse=0.04295812298047427, bo_xi='0.05'),\n",
       "  56909824: RmseAndBoXiPair(rmse=0.022646011286122328, bo_xi='2.5'),\n",
       "  100449280: RmseAndBoXiPair(rmse=0.01442950252355836, bo_xi='1.5')},\n",
       " 'extract-successes': {2467840: RmseAndBoXiPair(rmse=0.0530020552756327, bo_xi='0.05'),\n",
       "  56909824: RmseAndBoXiPair(rmse=0.07441270191940277, bo_xi='3.0'),\n",
       "  100449280: RmseAndBoXiPair(rmse=0.0627715167366214, bo_xi='1.5')},\n",
       " 'extract-success-stats': {2070369: RmseAndBoXiPair(rmse=0.08238843688091485, bo_xi='0.05'),\n",
       "  21511278: RmseAndBoXiPair(rmse=0.041107199782664944, bo_xi='0.5'),\n",
       "  21569326: RmseAndBoXiPair(rmse=0.02712285925170978, bo_xi='3.0')},\n",
       " 'validate-video': {42254483: RmseAndBoXiPair(rmse=0.24537848667600007, bo_xi='3.0'),\n",
       "  238915345: RmseAndBoXiPair(rmse=0.21815073917331776, bo_xi='0.5'),\n",
       "  525049424: RmseAndBoXiPair(rmse=0.18616328171443178, bo_xi='2.0')},\n",
       " 'cut-video': {8450897: RmseAndBoXiPair(rmse=0.18765053002997026, bo_xi='0.01'),\n",
       "  16901793: RmseAndBoXiPair(rmse=0.12199641209527783, bo_xi='0.05'),\n",
       "  33803586: RmseAndBoXiPair(rmse=0.1909472524322945, bo_xi='0.01'),\n",
       "  47783069: RmseAndBoXiPair(rmse=0.07049957784320655, bo_xi='3.0'),\n",
       "  95566138: RmseAndBoXiPair(rmse=0.2066278895881382, bo_xi='2.5'),\n",
       "  191132276: RmseAndBoXiPair(rmse=0.04198523754771106, bo_xi='3.0'),\n",
       "  105009885: RmseAndBoXiPair(rmse=0.049631694235880736, bo_xi='0.01'),\n",
       "  210019770: RmseAndBoXiPair(rmse=0.03507745425891213, bo_xi='1.5'),\n",
       "  420039539: RmseAndBoXiPair(rmse=0.062878185516613, bo_xi='0.05')},\n",
       " 'merge-videos': {15451354: RmseAndBoXiPair(rmse=0.1295714465558396, bo_xi='0.5'),\n",
       "  19660106: RmseAndBoXiPair(rmse=0.023857761042560568, bo_xi='2.5'),\n",
       "  23807460: RmseAndBoXiPair(rmse=0.022748059250286452, bo_xi='2.0'),\n",
       "  37873978: RmseAndBoXiPair(rmse=0.023686809718172146, bo_xi='0.01'),\n",
       "  42778355: RmseAndBoXiPair(rmse=0.02046886065466311, bo_xi='0.01')},\n",
       " 'validate-video-face-recog': {345600: RmseAndBoXiPair(rmse=0.22224641889094207, bo_xi='0.05'),\n",
       "  518400: RmseAndBoXiPair(rmse=0.19182808834222445, bo_xi='0.01'),\n",
       "  864000: RmseAndBoXiPair(rmse=0.1222639745412976, bo_xi='0.5'),\n",
       "  1080000: RmseAndBoXiPair(rmse=0.13596096905738916, bo_xi='0.1'),\n",
       "  1296000: RmseAndBoXiPair(rmse=0.06771282170774909, bo_xi='3.0'),\n",
       "  1620000: RmseAndBoXiPair(rmse=0.08101837512783626, bo_xi='0.05')},\n",
       " 'transform-video': {345600: RmseAndBoXiPair(rmse=0.19782878384673885, bo_xi='3.0'),\n",
       "  518400: RmseAndBoXiPair(rmse=0.1961995399014517, bo_xi='1.0'),\n",
       "  864000: RmseAndBoXiPair(rmse=0.19857319514801958, bo_xi='3.0'),\n",
       "  1080000: RmseAndBoXiPair(rmse=0.18467480397872243, bo_xi='3.0'),\n",
       "  1296000: RmseAndBoXiPair(rmse=0.08093895918777204, bo_xi='2.5'),\n",
       "  1620000: RmseAndBoXiPair(rmse=0.09859189277345727, bo_xi='1.5')},\n",
       " 'detect-faces': {2168077: RmseAndBoXiPair(rmse=0.22621872365294038, bo_xi='0.01'),\n",
       "  2200720: RmseAndBoXiPair(rmse=0.0691479385289465, bo_xi='1.0'),\n",
       "  6462780: RmseAndBoXiPair(rmse=0.06927933057557302, bo_xi='0.1'),\n",
       "  6478567: RmseAndBoXiPair(rmse=0.07517085095049245, bo_xi='0.1'),\n",
       "  14938139: RmseAndBoXiPair(rmse=0.07037315958144168, bo_xi='2.5'),\n",
       "  15033099: RmseAndBoXiPair(rmse=0.07344178815493323, bo_xi='0.05')},\n",
       " 'mark-faces': {345600: RmseAndBoXiPair(rmse=0.029899711206761083, bo_xi='0.1'),\n",
       "  518400: RmseAndBoXiPair(rmse=0.033455516503592256, bo_xi='0.01'),\n",
       "  864000: RmseAndBoXiPair(rmse=0.028425325570209603, bo_xi='0.1'),\n",
       "  1080000: RmseAndBoXiPair(rmse=0.033453358639968296, bo_xi='1.0'),\n",
       "  1296000: RmseAndBoXiPair(rmse=0.03725237661317097, bo_xi='1.0'),\n",
       "  1620000: RmseAndBoXiPair(rmse=0.030234092049387474, bo_xi='1.0')}}"
      ]
     },
     "execution_count": 11,
     "metadata": {},
     "output_type": "execute_result"
    }
   ],
   "source": [
    "## Find the bo_xi values that have the minimum RMSE for each input size of a function.\n",
    "\n",
    "find_min_rmses_for_all_functions(exhaustive_results)"
   ]
  }
 ],
 "metadata": {
  "kernelspec": {
   "display_name": "Python 3 (ipykernel)",
   "language": "python",
   "name": "python3"
  }
 },
 "nbformat": 4,
 "nbformat_minor": 5
}
